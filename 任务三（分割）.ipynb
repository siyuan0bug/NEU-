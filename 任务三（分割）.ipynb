{
 "cells": [
  {
   "cell_type": "code",
   "execution_count": 1,
   "id": "53683f0f",
   "metadata": {
    "_cell_guid": "b1076dfc-b9ad-4769-8c92-a6c4dae69d19",
    "_uuid": "8f2839f25d086af736a60e9eeb907d3b93b6e0e5",
    "execution": {
     "iopub.execute_input": "2023-12-06T06:53:33.200909Z",
     "iopub.status.busy": "2023-12-06T06:53:33.200581Z",
     "iopub.status.idle": "2023-12-06T06:53:34.026154Z",
     "shell.execute_reply": "2023-12-06T06:53:34.025214Z"
    },
    "papermill": {
     "duration": 0.833273,
     "end_time": "2023-12-06T06:53:34.028498",
     "exception": false,
     "start_time": "2023-12-06T06:53:33.195225",
     "status": "completed"
    },
    "tags": []
   },
   "outputs": [],
   "source": [
    "# This Python 3 environment comes with many helpful analytics libraries installed\n",
    "# It is defined by the kaggle/python Docker image: https://github.com/kaggle/docker-python\n",
    "# For example, here's several helpful packages to load\n",
    "\n",
    "import numpy as np # linear algebra\n",
    "import pandas as pd # data processing, CSV file I/O (e.g. pd.read_csv)\n",
    "\n",
    "# Input data files are available in the read-only \"../input/\" directory\n",
    "# For example, running this (by clicking run or pressing Shift+Enter) will list all files under the input directory\n",
    "\n",
    "# You can write up to 20GB to the current directory (/kaggle/working/) that gets preserved as output when you create a version using \"Save & Run All\" \n",
    "# You can also write temporary files to /kaggle/temp/, but they won't be saved outside of the current session"
   ]
  },
  {
   "cell_type": "markdown",
   "id": "7d4346ee",
   "metadata": {
    "papermill": {
     "duration": 0.003837,
     "end_time": "2023-12-06T06:53:34.036369",
     "exception": false,
     "start_time": "2023-12-06T06:53:34.032532",
     "status": "completed"
    },
    "tags": []
   },
   "source": [
    "readdata"
   ]
  },
  {
   "cell_type": "code",
   "execution_count": 2,
   "id": "845fd49f",
   "metadata": {
    "execution": {
     "iopub.execute_input": "2023-12-06T06:53:34.045134Z",
     "iopub.status.busy": "2023-12-06T06:53:34.044707Z",
     "iopub.status.idle": "2023-12-06T06:53:38.166686Z",
     "shell.execute_reply": "2023-12-06T06:53:38.165870Z"
    },
    "papermill": {
     "duration": 4.128888,
     "end_time": "2023-12-06T06:53:38.169116",
     "exception": false,
     "start_time": "2023-12-06T06:53:34.040228",
     "status": "completed"
    },
    "tags": []
   },
   "outputs": [],
   "source": [
    "import numpy as np\n",
    "import pandas as pd\n",
    "import torch\n",
    "import torchvision\n",
    "from PIL import Image\n",
    "import os\n",
    "from torch.utils.data import Dataset\n",
    "\n",
    "\n",
    "class myData(Dataset):\n",
    "    def __init__(self,  rootDir, imgDir, labelDir):\n",
    "        self.rootDir = rootDir # 根目录\n",
    "        self.imgDir = os.path.join(self.rootDir, imgDir)\n",
    "        self.imgPath = os.listdir(self.imgDir) # 所有图像路径列表\n",
    "        self.labelDir = os.path.join(self.rootDir, labelDir)\n",
    "\n",
    "    def __getitem__(self, idx): # idx为数据的序号（第几个数据）\n",
    "        imgName = self.imgPath[idx]\n",
    "        imgIndex = imgName[:-4]\n",
    "        imgAbsName = os.path.join(self.imgDir, imgName)\n",
    "        labelAbsName = os.path.join(self.labelDir, imgName)\n",
    "        transform = torchvision.transforms.ToTensor()\n",
    "        img = Image.open(imgAbsName).convert('L')\n",
    "        img = transform(img)\n",
    "        img = img\n",
    "        label = Image.open(labelAbsName).convert('1')\n",
    "        label = transform(label)\n",
    "        return img, label\n",
    "\n",
    "    def __len__(self):\n",
    "        return len(self.imgPath)\n",
    "\n",
    "class myData4Test(Dataset):\n",
    "    def __init__(self,  rootDir, imgDir):\n",
    "        self.rootDir = rootDir # 根目录\n",
    "        self.imgDir = os.path.join(self.rootDir, imgDir)\n",
    "        self.imgPath = os.listdir(self.imgDir) # 所有图像路径列表\n",
    "\n",
    "    def __getitem__(self, idx): # idx为数据的序号（第几个数据）\n",
    "        imgName = self.imgPath[idx]\n",
    "        imgIndex = imgName[:-4]\n",
    "        imgAbsName = os.path.join(self.imgDir, imgName)\n",
    "        transform = torchvision.transforms.ToTensor()\n",
    "        img = Image.open(imgAbsName).convert('L')\n",
    "        img = img.resize((512, 512))\n",
    "        img = transform(img)\n",
    "        return img, imgName\n",
    "\n",
    "    def __len__(self):\n",
    "        return len(self.imgPath)\n"
   ]
  },
  {
   "cell_type": "markdown",
   "id": "d1fb04ff",
   "metadata": {
    "papermill": {
     "duration": 0.003231,
     "end_time": "2023-12-06T06:53:38.176187",
     "exception": false,
     "start_time": "2023-12-06T06:53:38.172956",
     "status": "completed"
    },
    "tags": []
   },
   "source": [
    "model"
   ]
  },
  {
   "cell_type": "code",
   "execution_count": 3,
   "id": "f3d77017",
   "metadata": {
    "execution": {
     "iopub.execute_input": "2023-12-06T06:53:38.184330Z",
     "iopub.status.busy": "2023-12-06T06:53:38.183918Z",
     "iopub.status.idle": "2023-12-06T06:53:50.480362Z",
     "shell.execute_reply": "2023-12-06T06:53:50.479368Z"
    },
    "papermill": {
     "duration": 12.303129,
     "end_time": "2023-12-06T06:53:50.482704",
     "exception": false,
     "start_time": "2023-12-06T06:53:38.179575",
     "status": "completed"
    },
    "tags": []
   },
   "outputs": [
    {
     "name": "stderr",
     "output_type": "stream",
     "text": [
      "/opt/conda/lib/python3.10/site-packages/scipy/__init__.py:146: UserWarning: A NumPy version >=1.16.5 and <1.23.0 is required for this version of SciPy (detected version 1.24.3\n",
      "  warnings.warn(f\"A NumPy version >={np_minversion} and <{np_maxversion}\"\n"
     ]
    }
   ],
   "source": [
    "import torch\n",
    "from torch import nn\n",
    "import torch.nn.functional as F\n",
    "from torch.utils.tensorboard import SummaryWriter\n",
    "\n",
    "class VGGBlock(nn.Module):\n",
    "    def __init__(self, in_channels, middle_channels, out_channels):\n",
    "        super().__init__()\n",
    "        self.relu = nn.ReLU(inplace=True)\n",
    "        self.conv1 = nn.Conv2d(in_channels, middle_channels, 3, padding=1)\n",
    "        self.bn1 = nn.BatchNorm2d(middle_channels)\n",
    "        self.conv2 = nn.Conv2d(middle_channels, out_channels, 3, padding=1)\n",
    "        self.bn2 = nn.BatchNorm2d(out_channels)\n",
    "\n",
    "    def forward(self, x):\n",
    "        out = self.conv1(x)\n",
    "        out = self.bn1(out)\n",
    "        out = self.relu(out)\n",
    "\n",
    "        out = self.conv2(out)\n",
    "        out = self.bn2(out)\n",
    "        out = self.relu(out)\n",
    "\n",
    "        return out\n",
    "\n",
    "class Up(nn.Module):\n",
    "    \"\"\"Upscaling and concat\"\"\"\n",
    "\n",
    "    def __init__(self):\n",
    "        super().__init__()\n",
    "        self.up = nn.Upsample(scale_factor=2, mode='bilinear', align_corners=True)\n",
    "\n",
    "    def forward(self, x1, x2):\n",
    "        x1 = self.up(x1)\n",
    "        # input is CHW\n",
    "        diffY = torch.tensor([x2.size()[2] - x1.size()[2]])\n",
    "        diffX = torch.tensor([x2.size()[3] - x1.size()[3]])\n",
    "\n",
    "        x1 = F.pad(x1, [diffX // 2, diffX - diffX // 2,\n",
    "                        diffY // 2, diffY - diffY // 2])\n",
    "\n",
    "        x = torch.cat([x2, x1], dim=1)\n",
    "        return x\n",
    "\n",
    "\n",
    "class NestedUNet(nn.Module):\n",
    "    def __init__(self, num_classes=1, input_channels=1, deep_supervision=False, **kwargs):\n",
    "        super().__init__()\n",
    "\n",
    "        nb_filter = [32, 64, 128, 256, 512]\n",
    "\n",
    "        self.deep_supervision = deep_supervision\n",
    "\n",
    "        self.pool = nn.MaxPool2d(2, 2)\n",
    "        self.up = Up()\n",
    "\n",
    "        self.conv0_0 = VGGBlock(input_channels, nb_filter[0], nb_filter[0])\n",
    "        self.conv1_0 = VGGBlock(nb_filter[0], nb_filter[1], nb_filter[1])\n",
    "        self.conv2_0 = VGGBlock(nb_filter[1], nb_filter[2], nb_filter[2])\n",
    "        self.conv3_0 = VGGBlock(nb_filter[2], nb_filter[3], nb_filter[3])\n",
    "        self.conv4_0 = VGGBlock(nb_filter[3], nb_filter[4], nb_filter[4])\n",
    "\n",
    "        self.conv0_1 = VGGBlock(nb_filter[0]+nb_filter[1], nb_filter[0], nb_filter[0])\n",
    "        self.conv1_1 = VGGBlock(nb_filter[1]+nb_filter[2], nb_filter[1], nb_filter[1])\n",
    "        self.conv2_1 = VGGBlock(nb_filter[2]+nb_filter[3], nb_filter[2], nb_filter[2])\n",
    "        self.conv3_1 = VGGBlock(nb_filter[3]+nb_filter[4], nb_filter[3], nb_filter[3])\n",
    "\n",
    "        self.conv0_2 = VGGBlock(nb_filter[0]*2+nb_filter[1], nb_filter[0], nb_filter[0])\n",
    "        self.conv1_2 = VGGBlock(nb_filter[1]*2+nb_filter[2], nb_filter[1], nb_filter[1])\n",
    "        self.conv2_2 = VGGBlock(nb_filter[2]*2+nb_filter[3], nb_filter[2], nb_filter[2])\n",
    "\n",
    "        self.conv0_3 = VGGBlock(nb_filter[0]*3+nb_filter[1], nb_filter[0], nb_filter[0])\n",
    "        self.conv1_3 = VGGBlock(nb_filter[1]*3+nb_filter[2], nb_filter[1], nb_filter[1])\n",
    "\n",
    "        self.conv0_4 = VGGBlock(nb_filter[0]*4+nb_filter[1], nb_filter[0], nb_filter[0])\n",
    "\n",
    "        if self.deep_supervision:\n",
    "            self.final1 = nn.Conv2d(nb_filter[0], num_classes, kernel_size=1)\n",
    "            self.final2 = nn.Conv2d(nb_filter[0], num_classes, kernel_size=1)\n",
    "            self.final3 = nn.Conv2d(nb_filter[0], num_classes, kernel_size=1)\n",
    "            self.final4 = nn.Conv2d(nb_filter[0], num_classes, kernel_size=1)\n",
    "        else:\n",
    "            self.final = nn.Conv2d(nb_filter[0], num_classes, kernel_size=1)\n",
    "\n",
    "\n",
    "    def forward(self, input):\n",
    "        x0_0 = self.conv0_0(input)\n",
    "        x1_0 = self.conv1_0(self.pool(x0_0))\n",
    "        x0_1 = self.conv0_1(self.up(x1_0, x0_0))\n",
    "\n",
    "        x2_0 = self.conv2_0(self.pool(x1_0))\n",
    "        x1_1 = self.conv1_1(self.up(x2_0, x1_0))\n",
    "        x0_2 = self.conv0_2(self.up(x1_1, torch.cat([x0_0, x0_1], 1)))\n",
    "\n",
    "        x3_0 = self.conv3_0(self.pool(x2_0))\n",
    "        x2_1 = self.conv2_1(self.up(x3_0, x2_0))\n",
    "        x1_2 = self.conv1_2(self.up(x2_1, torch.cat([x1_0, x1_1], 1)))\n",
    "        x0_3 = self.conv0_3(self.up(x1_2, torch.cat([x0_0, x0_1, x0_2], 1)))\n",
    "\n",
    "        x4_0 = self.conv4_0(self.pool(x3_0))\n",
    "        x3_1 = self.conv3_1(self.up(x4_0, x3_0))\n",
    "        x2_2 = self.conv2_2(self.up(x3_1, torch.cat([x2_0, x2_1], 1)))\n",
    "        x1_3 = self.conv1_3(self.up(x2_2, torch.cat([x1_0, x1_1, x1_2], 1)))\n",
    "        x0_4 = self.conv0_4(self.up(x1_3, torch.cat([x0_0, x0_1, x0_2, x0_3], 1)))\n",
    "\n",
    "        if self.deep_supervision:\n",
    "            output1 = self.final1(x0_1)\n",
    "            output2 = self.final2(x0_2)\n",
    "            output3 = self.final3(x0_3)\n",
    "            output4 = self.final4(x0_4)\n",
    "            return [output1, output2, output3, output4]\n",
    "\n",
    "        else:\n",
    "            output = self.final(x0_4)\n",
    "            return output"
   ]
  },
  {
   "cell_type": "markdown",
   "id": "55ac3ed3",
   "metadata": {
    "papermill": {
     "duration": 0.003442,
     "end_time": "2023-12-06T06:53:50.490050",
     "exception": false,
     "start_time": "2023-12-06T06:53:50.486608",
     "status": "completed"
    },
    "tags": []
   },
   "source": [
    "train"
   ]
  },
  {
   "cell_type": "markdown",
   "id": "a67b1b45",
   "metadata": {
    "papermill": {
     "duration": 0.003437,
     "end_time": "2023-12-06T06:53:50.497076",
     "exception": false,
     "start_time": "2023-12-06T06:53:50.493639",
     "status": "completed"
    },
    "tags": []
   },
   "source": [
    "output\n"
   ]
  },
  {
   "cell_type": "code",
   "execution_count": 4,
   "id": "dadf168c",
   "metadata": {
    "execution": {
     "iopub.execute_input": "2023-12-06T06:53:50.505554Z",
     "iopub.status.busy": "2023-12-06T06:53:50.504999Z",
     "iopub.status.idle": "2023-12-06T06:54:06.773136Z",
     "shell.execute_reply": "2023-12-06T06:54:06.771945Z"
    },
    "papermill": {
     "duration": 16.274996,
     "end_time": "2023-12-06T06:54:06.775627",
     "exception": false,
     "start_time": "2023-12-06T06:53:50.500631",
     "status": "completed"
    },
    "tags": []
   },
   "outputs": [
    {
     "name": "stdout",
     "output_type": "stream",
     "text": [
      "1 / 40\n",
      "2 / 40\n",
      "3 / 40\n",
      "4 / 40\n",
      "5 / 40\n",
      "6 / 40\n",
      "7 / 40\n",
      "8 / 40\n",
      "9 / 40\n",
      "10 / 40\n",
      "11 / 40\n",
      "12 / 40\n",
      "13 / 40\n",
      "14 / 40\n",
      "15 / 40\n",
      "16 / 40\n",
      "17 / 40\n",
      "18 / 40\n",
      "19 / 40\n",
      "20 / 40\n",
      "21 / 40\n",
      "22 / 40\n",
      "23 / 40\n",
      "24 / 40\n",
      "25 / 40\n",
      "26 / 40\n",
      "27 / 40\n",
      "28 / 40\n",
      "29 / 40\n",
      "30 / 40\n",
      "31 / 40\n",
      "32 / 40\n",
      "33 / 40\n",
      "34 / 40\n",
      "35 / 40\n",
      "36 / 40\n",
      "37 / 40\n",
      "38 / 40\n",
      "39 / 40\n",
      "40 / 40\n"
     ]
    }
   ],
   "source": [
    "import os\n",
    "import numpy as np\n",
    "import torch.utils.data\n",
    "import torch\n",
    "from PIL import Image\n",
    "#from models import UNetPP\n",
    "#from readData import myData4Test\n",
    "\n",
    "rootDir = \"/kaggle/input/gabseg/segmentation-plus\"\n",
    "testDir = \"test/image\"\n",
    "testSet = myData4Test(rootDir, testDir)\n",
    "\n",
    "testLoader = torch.utils.data.DataLoader(dataset= testSet, batch_size= 1, shuffle= False)\n",
    "\n",
    "model =NestedUNet()\n",
    "\n",
    "model.load_state_dict(torch.load(\"/kaggle/input/gmodel1/bestWeight2.pth\"))\n",
    "device = torch.device(\"cuda\")\n",
    "model = model.to(device)\n",
    "testSize = len(testSet)\n",
    "testLoss = 0\n",
    "outDir = \"/kaggle/working/label\"\n",
    "if not os.path.exists(outDir):\n",
    "    os.mkdir(outDir)\n",
    "i = 0\n",
    "j = 0\n",
    "model.eval()\n",
    "with torch.no_grad():\n",
    "    for data in testLoader:\n",
    "        imgs, names = data\n",
    "        imgs = imgs.to(device)\n",
    "        outputs = model(imgs)\n",
    "        for i in range(1):\n",
    "            imgTensor = outputs[i]\n",
    "            imgTensor[imgTensor > 0] = 255\n",
    "            imgTensor[imgTensor <= 0] = 0\n",
    "            imgAbsName = os.path.join(outDir, names[i])\n",
    "            imgNP = np.array(imgTensor.data.cpu()[0],dtype=np.uint8)\n",
    "            patch = Image.fromarray(imgNP)\n",
    "            patch.save(imgAbsName)\n",
    "        j += 1\n",
    "        print(\"{} / {}\".format(j, len(testLoader)))\n",
    "# tensorboard --logdir=logs_train\n"
   ]
  },
  {
   "cell_type": "code",
   "execution_count": null,
   "id": "9ec75c71",
   "metadata": {
    "papermill": {
     "duration": 0.004551,
     "end_time": "2023-12-06T06:54:06.785602",
     "exception": false,
     "start_time": "2023-12-06T06:54:06.781051",
     "status": "completed"
    },
    "tags": []
   },
   "outputs": [],
   "source": []
  },
  {
   "cell_type": "code",
   "execution_count": null,
   "id": "6e0fe59f",
   "metadata": {
    "papermill": {
     "duration": 0.004728,
     "end_time": "2023-12-06T06:54:06.795135",
     "exception": false,
     "start_time": "2023-12-06T06:54:06.790407",
     "status": "completed"
    },
    "tags": []
   },
   "outputs": [],
   "source": []
  },
  {
   "cell_type": "code",
   "execution_count": null,
   "id": "2900989d",
   "metadata": {
    "papermill": {
     "duration": 0.004684,
     "end_time": "2023-12-06T06:54:06.804535",
     "exception": false,
     "start_time": "2023-12-06T06:54:06.799851",
     "status": "completed"
    },
    "tags": []
   },
   "outputs": [],
   "source": []
  }
 ],
 "metadata": {
  "kaggle": {
   "accelerator": "nvidiaTeslaT4",
   "dataSources": [
    {
     "datasetId": 4108860,
     "sourceId": 7123194,
     "sourceType": "datasetVersion"
    },
    {
     "datasetId": 4114366,
     "sourceId": 7135700,
     "sourceType": "datasetVersion"
    }
   ],
   "dockerImageVersionId": 30588,
   "isGpuEnabled": true,
   "isInternetEnabled": true,
   "language": "python",
   "sourceType": "notebook"
  },
  "kernelspec": {
   "display_name": "Python 3",
   "language": "python",
   "name": "python3"
  },
  "language_info": {
   "codemirror_mode": {
    "name": "ipython",
    "version": 3
   },
   "file_extension": ".py",
   "mimetype": "text/x-python",
   "name": "python",
   "nbconvert_exporter": "python",
   "pygments_lexer": "ipython3",
   "version": "3.10.12"
  },
  "papermill": {
   "default_parameters": {},
   "duration": 40.669235,
   "end_time": "2023-12-06T06:54:10.316808",
   "environment_variables": {},
   "exception": null,
   "input_path": "__notebook__.ipynb",
   "output_path": "__notebook__.ipynb",
   "parameters": {},
   "start_time": "2023-12-06T06:53:29.647573",
   "version": "2.4.0"
  }
 },
 "nbformat": 4,
 "nbformat_minor": 5
}
